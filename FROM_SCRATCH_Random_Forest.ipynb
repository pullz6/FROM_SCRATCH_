{
  "nbformat": 4,
  "nbformat_minor": 0,
  "metadata": {
    "colab": {
      "provenance": [],
      "authorship_tag": "ABX9TyMl8O2GFMgN7+xgMxeX0+Ws",
      "include_colab_link": true
    },
    "kernelspec": {
      "name": "python3",
      "display_name": "Python 3"
    },
    "language_info": {
      "name": "python"
    }
  },
  "cells": [
    {
      "cell_type": "markdown",
      "metadata": {
        "id": "view-in-github",
        "colab_type": "text"
      },
      "source": [
        "<a href=\"https://colab.research.google.com/github/pullz6/FROM_SCRATCH_Random_Forest/blob/main/FROM_SCRATCH_Random_Forest.ipynb\" target=\"_parent\"><img src=\"https://colab.research.google.com/assets/colab-badge.svg\" alt=\"Open In Colab\"/></a>"
      ]
    },
    {
      "cell_type": "code",
      "execution_count": 1,
      "metadata": {
        "id": "_1hdE_Ji670U"
      },
      "outputs": [],
      "source": [
        "#Importing required libaries\n",
        "import pandas as pd\n",
        "import numpy as np\n",
        "import random"
      ]
    },
    {
      "cell_type": "code",
      "source": [
        "#Importing the dataset that is available here - https://www.kaggle.com/datasets/lukexun/luke-hair-loss-dataset\n",
        "df = pd.read_csv('Luke_hair_loss_documentation.csv')"
      ],
      "metadata": {
        "id": "8rD5mvord6TL"
      },
      "execution_count": 2,
      "outputs": []
    },
    {
      "cell_type": "code",
      "source": [
        "df.head()"
      ],
      "metadata": {
        "colab": {
          "base_uri": "https://localhost:8080/",
          "height": 226
        },
        "id": "GWxvUXKtfPSD",
        "outputId": "1e72322c-84be-4625-a8e3-03e30aaecd94"
      },
      "execution_count": 3,
      "outputs": [
        {
          "output_type": "execute_result",
          "data": {
            "text/plain": [
              "       date  hair_loss  stay_up_late pressure_level  coffee_consumed  \\\n",
              "0  1/01/2021       Few             2            Low                0   \n",
              "1  2/01/2021       Few             0            Low                0   \n",
              "2  3/01/2021    Medium             3            Low                1   \n",
              "3  4/01/2021       Few             2            Low                0   \n",
              "4  5/01/2021       Few             2            Low                0   \n",
              "\n",
              "   brain_working_duration school_assesssment stress_level shampoo_brand  \\\n",
              "0                       1                NaN          Low       Pantene   \n",
              "1                       3                NaN          Low       Pantene   \n",
              "2                       0                NaN          Low       Pantene   \n",
              "3                       1                NaN          Low       Pantene   \n",
              "4                       1                NaN          Low       Pantene   \n",
              "\n",
              "  swimming hair_washing  hair_grease dandruff  libido  \n",
              "0       No            Y          3.0      NaN       1  \n",
              "1       No            N          1.0      NaN       1  \n",
              "2      Yes            Y          2.0      NaN       2  \n",
              "3       No            N          3.0      NaN       3  \n",
              "4       No            Y          1.0      NaN       2  "
            ],
            "text/html": [
              "\n",
              "  <div id=\"df-15207d02-c259-4482-8de1-1e01a200ceb6\" class=\"colab-df-container\">\n",
              "    <div>\n",
              "<style scoped>\n",
              "    .dataframe tbody tr th:only-of-type {\n",
              "        vertical-align: middle;\n",
              "    }\n",
              "\n",
              "    .dataframe tbody tr th {\n",
              "        vertical-align: top;\n",
              "    }\n",
              "\n",
              "    .dataframe thead th {\n",
              "        text-align: right;\n",
              "    }\n",
              "</style>\n",
              "<table border=\"1\" class=\"dataframe\">\n",
              "  <thead>\n",
              "    <tr style=\"text-align: right;\">\n",
              "      <th></th>\n",
              "      <th>date</th>\n",
              "      <th>hair_loss</th>\n",
              "      <th>stay_up_late</th>\n",
              "      <th>pressure_level</th>\n",
              "      <th>coffee_consumed</th>\n",
              "      <th>brain_working_duration</th>\n",
              "      <th>school_assesssment</th>\n",
              "      <th>stress_level</th>\n",
              "      <th>shampoo_brand</th>\n",
              "      <th>swimming</th>\n",
              "      <th>hair_washing</th>\n",
              "      <th>hair_grease</th>\n",
              "      <th>dandruff</th>\n",
              "      <th>libido</th>\n",
              "    </tr>\n",
              "  </thead>\n",
              "  <tbody>\n",
              "    <tr>\n",
              "      <th>0</th>\n",
              "      <td>1/01/2021</td>\n",
              "      <td>Few</td>\n",
              "      <td>2</td>\n",
              "      <td>Low</td>\n",
              "      <td>0</td>\n",
              "      <td>1</td>\n",
              "      <td>NaN</td>\n",
              "      <td>Low</td>\n",
              "      <td>Pantene</td>\n",
              "      <td>No</td>\n",
              "      <td>Y</td>\n",
              "      <td>3.0</td>\n",
              "      <td>NaN</td>\n",
              "      <td>1</td>\n",
              "    </tr>\n",
              "    <tr>\n",
              "      <th>1</th>\n",
              "      <td>2/01/2021</td>\n",
              "      <td>Few</td>\n",
              "      <td>0</td>\n",
              "      <td>Low</td>\n",
              "      <td>0</td>\n",
              "      <td>3</td>\n",
              "      <td>NaN</td>\n",
              "      <td>Low</td>\n",
              "      <td>Pantene</td>\n",
              "      <td>No</td>\n",
              "      <td>N</td>\n",
              "      <td>1.0</td>\n",
              "      <td>NaN</td>\n",
              "      <td>1</td>\n",
              "    </tr>\n",
              "    <tr>\n",
              "      <th>2</th>\n",
              "      <td>3/01/2021</td>\n",
              "      <td>Medium</td>\n",
              "      <td>3</td>\n",
              "      <td>Low</td>\n",
              "      <td>1</td>\n",
              "      <td>0</td>\n",
              "      <td>NaN</td>\n",
              "      <td>Low</td>\n",
              "      <td>Pantene</td>\n",
              "      <td>Yes</td>\n",
              "      <td>Y</td>\n",
              "      <td>2.0</td>\n",
              "      <td>NaN</td>\n",
              "      <td>2</td>\n",
              "    </tr>\n",
              "    <tr>\n",
              "      <th>3</th>\n",
              "      <td>4/01/2021</td>\n",
              "      <td>Few</td>\n",
              "      <td>2</td>\n",
              "      <td>Low</td>\n",
              "      <td>0</td>\n",
              "      <td>1</td>\n",
              "      <td>NaN</td>\n",
              "      <td>Low</td>\n",
              "      <td>Pantene</td>\n",
              "      <td>No</td>\n",
              "      <td>N</td>\n",
              "      <td>3.0</td>\n",
              "      <td>NaN</td>\n",
              "      <td>3</td>\n",
              "    </tr>\n",
              "    <tr>\n",
              "      <th>4</th>\n",
              "      <td>5/01/2021</td>\n",
              "      <td>Few</td>\n",
              "      <td>2</td>\n",
              "      <td>Low</td>\n",
              "      <td>0</td>\n",
              "      <td>1</td>\n",
              "      <td>NaN</td>\n",
              "      <td>Low</td>\n",
              "      <td>Pantene</td>\n",
              "      <td>No</td>\n",
              "      <td>Y</td>\n",
              "      <td>1.0</td>\n",
              "      <td>NaN</td>\n",
              "      <td>2</td>\n",
              "    </tr>\n",
              "  </tbody>\n",
              "</table>\n",
              "</div>\n",
              "    <div class=\"colab-df-buttons\">\n",
              "\n",
              "  <div class=\"colab-df-container\">\n",
              "    <button class=\"colab-df-convert\" onclick=\"convertToInteractive('df-15207d02-c259-4482-8de1-1e01a200ceb6')\"\n",
              "            title=\"Convert this dataframe to an interactive table.\"\n",
              "            style=\"display:none;\">\n",
              "\n",
              "  <svg xmlns=\"http://www.w3.org/2000/svg\" height=\"24px\" viewBox=\"0 -960 960 960\">\n",
              "    <path d=\"M120-120v-720h720v720H120Zm60-500h600v-160H180v160Zm220 220h160v-160H400v160Zm0 220h160v-160H400v160ZM180-400h160v-160H180v160Zm440 0h160v-160H620v160ZM180-180h160v-160H180v160Zm440 0h160v-160H620v160Z\"/>\n",
              "  </svg>\n",
              "    </button>\n",
              "\n",
              "  <style>\n",
              "    .colab-df-container {\n",
              "      display:flex;\n",
              "      gap: 12px;\n",
              "    }\n",
              "\n",
              "    .colab-df-convert {\n",
              "      background-color: #E8F0FE;\n",
              "      border: none;\n",
              "      border-radius: 50%;\n",
              "      cursor: pointer;\n",
              "      display: none;\n",
              "      fill: #1967D2;\n",
              "      height: 32px;\n",
              "      padding: 0 0 0 0;\n",
              "      width: 32px;\n",
              "    }\n",
              "\n",
              "    .colab-df-convert:hover {\n",
              "      background-color: #E2EBFA;\n",
              "      box-shadow: 0px 1px 2px rgba(60, 64, 67, 0.3), 0px 1px 3px 1px rgba(60, 64, 67, 0.15);\n",
              "      fill: #174EA6;\n",
              "    }\n",
              "\n",
              "    .colab-df-buttons div {\n",
              "      margin-bottom: 4px;\n",
              "    }\n",
              "\n",
              "    [theme=dark] .colab-df-convert {\n",
              "      background-color: #3B4455;\n",
              "      fill: #D2E3FC;\n",
              "    }\n",
              "\n",
              "    [theme=dark] .colab-df-convert:hover {\n",
              "      background-color: #434B5C;\n",
              "      box-shadow: 0px 1px 3px 1px rgba(0, 0, 0, 0.15);\n",
              "      filter: drop-shadow(0px 1px 2px rgba(0, 0, 0, 0.3));\n",
              "      fill: #FFFFFF;\n",
              "    }\n",
              "  </style>\n",
              "\n",
              "    <script>\n",
              "      const buttonEl =\n",
              "        document.querySelector('#df-15207d02-c259-4482-8de1-1e01a200ceb6 button.colab-df-convert');\n",
              "      buttonEl.style.display =\n",
              "        google.colab.kernel.accessAllowed ? 'block' : 'none';\n",
              "\n",
              "      async function convertToInteractive(key) {\n",
              "        const element = document.querySelector('#df-15207d02-c259-4482-8de1-1e01a200ceb6');\n",
              "        const dataTable =\n",
              "          await google.colab.kernel.invokeFunction('convertToInteractive',\n",
              "                                                    [key], {});\n",
              "        if (!dataTable) return;\n",
              "\n",
              "        const docLinkHtml = 'Like what you see? Visit the ' +\n",
              "          '<a target=\"_blank\" href=https://colab.research.google.com/notebooks/data_table.ipynb>data table notebook</a>'\n",
              "          + ' to learn more about interactive tables.';\n",
              "        element.innerHTML = '';\n",
              "        dataTable['output_type'] = 'display_data';\n",
              "        await google.colab.output.renderOutput(dataTable, element);\n",
              "        const docLink = document.createElement('div');\n",
              "        docLink.innerHTML = docLinkHtml;\n",
              "        element.appendChild(docLink);\n",
              "      }\n",
              "    </script>\n",
              "  </div>\n",
              "\n",
              "\n",
              "<div id=\"df-4004ce94-c419-4644-a864-c22825e0bac9\">\n",
              "  <button class=\"colab-df-quickchart\" onclick=\"quickchart('df-4004ce94-c419-4644-a864-c22825e0bac9')\"\n",
              "            title=\"Suggest charts\"\n",
              "            style=\"display:none;\">\n",
              "\n",
              "<svg xmlns=\"http://www.w3.org/2000/svg\" height=\"24px\"viewBox=\"0 0 24 24\"\n",
              "     width=\"24px\">\n",
              "    <g>\n",
              "        <path d=\"M19 3H5c-1.1 0-2 .9-2 2v14c0 1.1.9 2 2 2h14c1.1 0 2-.9 2-2V5c0-1.1-.9-2-2-2zM9 17H7v-7h2v7zm4 0h-2V7h2v10zm4 0h-2v-4h2v4z\"/>\n",
              "    </g>\n",
              "</svg>\n",
              "  </button>\n",
              "\n",
              "<style>\n",
              "  .colab-df-quickchart {\n",
              "      --bg-color: #E8F0FE;\n",
              "      --fill-color: #1967D2;\n",
              "      --hover-bg-color: #E2EBFA;\n",
              "      --hover-fill-color: #174EA6;\n",
              "      --disabled-fill-color: #AAA;\n",
              "      --disabled-bg-color: #DDD;\n",
              "  }\n",
              "\n",
              "  [theme=dark] .colab-df-quickchart {\n",
              "      --bg-color: #3B4455;\n",
              "      --fill-color: #D2E3FC;\n",
              "      --hover-bg-color: #434B5C;\n",
              "      --hover-fill-color: #FFFFFF;\n",
              "      --disabled-bg-color: #3B4455;\n",
              "      --disabled-fill-color: #666;\n",
              "  }\n",
              "\n",
              "  .colab-df-quickchart {\n",
              "    background-color: var(--bg-color);\n",
              "    border: none;\n",
              "    border-radius: 50%;\n",
              "    cursor: pointer;\n",
              "    display: none;\n",
              "    fill: var(--fill-color);\n",
              "    height: 32px;\n",
              "    padding: 0;\n",
              "    width: 32px;\n",
              "  }\n",
              "\n",
              "  .colab-df-quickchart:hover {\n",
              "    background-color: var(--hover-bg-color);\n",
              "    box-shadow: 0 1px 2px rgba(60, 64, 67, 0.3), 0 1px 3px 1px rgba(60, 64, 67, 0.15);\n",
              "    fill: var(--button-hover-fill-color);\n",
              "  }\n",
              "\n",
              "  .colab-df-quickchart-complete:disabled,\n",
              "  .colab-df-quickchart-complete:disabled:hover {\n",
              "    background-color: var(--disabled-bg-color);\n",
              "    fill: var(--disabled-fill-color);\n",
              "    box-shadow: none;\n",
              "  }\n",
              "\n",
              "  .colab-df-spinner {\n",
              "    border: 2px solid var(--fill-color);\n",
              "    border-color: transparent;\n",
              "    border-bottom-color: var(--fill-color);\n",
              "    animation:\n",
              "      spin 1s steps(1) infinite;\n",
              "  }\n",
              "\n",
              "  @keyframes spin {\n",
              "    0% {\n",
              "      border-color: transparent;\n",
              "      border-bottom-color: var(--fill-color);\n",
              "      border-left-color: var(--fill-color);\n",
              "    }\n",
              "    20% {\n",
              "      border-color: transparent;\n",
              "      border-left-color: var(--fill-color);\n",
              "      border-top-color: var(--fill-color);\n",
              "    }\n",
              "    30% {\n",
              "      border-color: transparent;\n",
              "      border-left-color: var(--fill-color);\n",
              "      border-top-color: var(--fill-color);\n",
              "      border-right-color: var(--fill-color);\n",
              "    }\n",
              "    40% {\n",
              "      border-color: transparent;\n",
              "      border-right-color: var(--fill-color);\n",
              "      border-top-color: var(--fill-color);\n",
              "    }\n",
              "    60% {\n",
              "      border-color: transparent;\n",
              "      border-right-color: var(--fill-color);\n",
              "    }\n",
              "    80% {\n",
              "      border-color: transparent;\n",
              "      border-right-color: var(--fill-color);\n",
              "      border-bottom-color: var(--fill-color);\n",
              "    }\n",
              "    90% {\n",
              "      border-color: transparent;\n",
              "      border-bottom-color: var(--fill-color);\n",
              "    }\n",
              "  }\n",
              "</style>\n",
              "\n",
              "  <script>\n",
              "    async function quickchart(key) {\n",
              "      const quickchartButtonEl =\n",
              "        document.querySelector('#' + key + ' button');\n",
              "      quickchartButtonEl.disabled = true;  // To prevent multiple clicks.\n",
              "      quickchartButtonEl.classList.add('colab-df-spinner');\n",
              "      try {\n",
              "        const charts = await google.colab.kernel.invokeFunction(\n",
              "            'suggestCharts', [key], {});\n",
              "      } catch (error) {\n",
              "        console.error('Error during call to suggestCharts:', error);\n",
              "      }\n",
              "      quickchartButtonEl.classList.remove('colab-df-spinner');\n",
              "      quickchartButtonEl.classList.add('colab-df-quickchart-complete');\n",
              "    }\n",
              "    (() => {\n",
              "      let quickchartButtonEl =\n",
              "        document.querySelector('#df-4004ce94-c419-4644-a864-c22825e0bac9 button');\n",
              "      quickchartButtonEl.style.display =\n",
              "        google.colab.kernel.accessAllowed ? 'block' : 'none';\n",
              "    })();\n",
              "  </script>\n",
              "</div>\n",
              "\n",
              "    </div>\n",
              "  </div>\n"
            ],
            "application/vnd.google.colaboratory.intrinsic+json": {
              "type": "dataframe",
              "variable_name": "df",
              "summary": "{\n  \"name\": \"df\",\n  \"rows\": 400,\n  \"fields\": [\n    {\n      \"column\": \"date \",\n      \"properties\": {\n        \"dtype\": \"string\",\n        \"num_unique_values\": 400,\n        \"samples\": [\n          \"29/07/2021\",\n          \"8/10/2021\",\n          \"3/02/2021\"\n        ],\n        \"semantic_type\": \"\",\n        \"description\": \"\"\n      }\n    },\n    {\n      \"column\": \"hair_loss\",\n      \"properties\": {\n        \"dtype\": \"category\",\n        \"num_unique_values\": 4,\n        \"samples\": [\n          \"Medium\",\n          \"A lot\",\n          \"Few\"\n        ],\n        \"semantic_type\": \"\",\n        \"description\": \"\"\n      }\n    },\n    {\n      \"column\": \"stay_up_late\",\n      \"properties\": {\n        \"dtype\": \"number\",\n        \"std\": 1,\n        \"min\": 0,\n        \"max\": 8,\n        \"num_unique_values\": 8,\n        \"samples\": [\n          0,\n          5,\n          2\n        ],\n        \"semantic_type\": \"\",\n        \"description\": \"\"\n      }\n    },\n    {\n      \"column\": \"pressure_level\",\n      \"properties\": {\n        \"dtype\": \"category\",\n        \"num_unique_values\": 4,\n        \"samples\": [\n          \"Medium\",\n          \"Very High\",\n          \"Low\"\n        ],\n        \"semantic_type\": \"\",\n        \"description\": \"\"\n      }\n    },\n    {\n      \"column\": \"coffee_consumed\",\n      \"properties\": {\n        \"dtype\": \"number\",\n        \"std\": 1,\n        \"min\": 0,\n        \"max\": 10,\n        \"num_unique_values\": 11,\n        \"samples\": [\n          5,\n          0,\n          9\n        ],\n        \"semantic_type\": \"\",\n        \"description\": \"\"\n      }\n    },\n    {\n      \"column\": \"brain_working_duration\",\n      \"properties\": {\n        \"dtype\": \"number\",\n        \"std\": 4,\n        \"min\": 0,\n        \"max\": 18,\n        \"num_unique_values\": 15,\n        \"samples\": [\n          10,\n          13,\n          1\n        ],\n        \"semantic_type\": \"\",\n        \"description\": \"\"\n      }\n    },\n    {\n      \"column\": \"school_assesssment\",\n      \"properties\": {\n        \"dtype\": \"category\",\n        \"num_unique_values\": 4,\n        \"samples\": [\n          \"Team ass\",\n          \"Final exam\",\n          \"Individual ass\"\n        ],\n        \"semantic_type\": \"\",\n        \"description\": \"\"\n      }\n    },\n    {\n      \"column\": \"stress_level\",\n      \"properties\": {\n        \"dtype\": \"category\",\n        \"num_unique_values\": 4,\n        \"samples\": [\n          \"Medium\",\n          \"Very High\",\n          \"Low\"\n        ],\n        \"semantic_type\": \"\",\n        \"description\": \"\"\n      }\n    },\n    {\n      \"column\": \"shampoo_brand\",\n      \"properties\": {\n        \"dtype\": \"category\",\n        \"num_unique_values\": 2,\n        \"samples\": [\n          \"Hair & Shoulder\",\n          \"Pantene\"\n        ],\n        \"semantic_type\": \"\",\n        \"description\": \"\"\n      }\n    },\n    {\n      \"column\": \"swimming\",\n      \"properties\": {\n        \"dtype\": \"category\",\n        \"num_unique_values\": 2,\n        \"samples\": [\n          \"Yes\",\n          \"No\"\n        ],\n        \"semantic_type\": \"\",\n        \"description\": \"\"\n      }\n    },\n    {\n      \"column\": \"hair_washing\",\n      \"properties\": {\n        \"dtype\": \"category\",\n        \"num_unique_values\": 2,\n        \"samples\": [\n          \"N\",\n          \"Y\"\n        ],\n        \"semantic_type\": \"\",\n        \"description\": \"\"\n      }\n    },\n    {\n      \"column\": \"hair_grease\",\n      \"properties\": {\n        \"dtype\": \"number\",\n        \"std\": 1.2761620956651543,\n        \"min\": 1.0,\n        \"max\": 5.0,\n        \"num_unique_values\": 5,\n        \"samples\": [\n          1.0,\n          5.0\n        ],\n        \"semantic_type\": \"\",\n        \"description\": \"\"\n      }\n    },\n    {\n      \"column\": \"dandruff\",\n      \"properties\": {\n        \"dtype\": \"category\",\n        \"num_unique_values\": 2,\n        \"samples\": [\n          \"Many\",\n          \"Few\"\n        ],\n        \"semantic_type\": \"\",\n        \"description\": \"\"\n      }\n    },\n    {\n      \"column\": \"libido\",\n      \"properties\": {\n        \"dtype\": \"number\",\n        \"std\": 1,\n        \"min\": 0,\n        \"max\": 5,\n        \"num_unique_values\": 6,\n        \"samples\": [\n          1,\n          2\n        ],\n        \"semantic_type\": \"\",\n        \"description\": \"\"\n      }\n    }\n  ]\n}"
            }
          },
          "metadata": {},
          "execution_count": 3
        }
      ]
    },
    {
      "cell_type": "code",
      "source": [
        "#Checking the stats of the dataset\n",
        "df.info()"
      ],
      "metadata": {
        "colab": {
          "base_uri": "https://localhost:8080/"
        },
        "id": "98Tznu2VfR_V",
        "outputId": "c2587225-36f6-4fc5-8370-16a8c25f4e12"
      },
      "execution_count": 4,
      "outputs": [
        {
          "output_type": "stream",
          "name": "stdout",
          "text": [
            "<class 'pandas.core.frame.DataFrame'>\n",
            "RangeIndex: 400 entries, 0 to 399\n",
            "Data columns (total 14 columns):\n",
            " #   Column                  Non-Null Count  Dtype  \n",
            "---  ------                  --------------  -----  \n",
            " 0   date                    400 non-null    object \n",
            " 1   hair_loss               400 non-null    object \n",
            " 2   stay_up_late            400 non-null    int64  \n",
            " 3   pressure_level          400 non-null    object \n",
            " 4   coffee_consumed         400 non-null    int64  \n",
            " 5   brain_working_duration  400 non-null    int64  \n",
            " 6   school_assesssment      95 non-null     object \n",
            " 7   stress_level            400 non-null    object \n",
            " 8   shampoo_brand           400 non-null    object \n",
            " 9   swimming                400 non-null    object \n",
            " 10  hair_washing            400 non-null    object \n",
            " 11  hair_grease             396 non-null    float64\n",
            " 12  dandruff                111 non-null    object \n",
            " 13  libido                  400 non-null    int64  \n",
            "dtypes: float64(1), int64(4), object(9)\n",
            "memory usage: 43.9+ KB\n"
          ]
        }
      ]
    },
    {
      "cell_type": "code",
      "source": [
        "#We can see if a few null values and Random Forests does not process null values.\n",
        "\n",
        "#Lets Start by seesing which types we have in the catergorical data types\n",
        "df['school_assesssment'].unique()\n",
        "df['dandruff'].unique()"
      ],
      "metadata": {
        "colab": {
          "base_uri": "https://localhost:8080/"
        },
        "id": "1PVgYugxgE45",
        "outputId": "08a371de-62ab-49ca-bb47-4ae42dfb4b1c"
      },
      "execution_count": 8,
      "outputs": [
        {
          "output_type": "execute_result",
          "data": {
            "text/plain": [
              "array(['Few', 'Many'], dtype=object)"
            ]
          },
          "metadata": {},
          "execution_count": 8
        }
      ]
    },
    {
      "cell_type": "code",
      "source": [
        "#For the attributes we will use the mean or the mode\n",
        "df.loc[df['hair_grease'].isnull(),'hair_grease'] = np.round(df['hair_grease'].mean())\n",
        "df.loc[df['school_assesssment'].isnull(),'school_assesssment'] = df['school_assesssment'].value_counts().index[0]\n",
        "df.loc[df['dandruff'].isnull(),'dandruff'] = df['dandruff'].value_counts().index[0]"
      ],
      "metadata": {
        "id": "LHpmP7sGf_oa"
      },
      "execution_count": 9,
      "outputs": []
    },
    {
      "cell_type": "code",
      "source": [
        "df.info()"
      ],
      "metadata": {
        "colab": {
          "base_uri": "https://localhost:8080/"
        },
        "id": "bpxMPxpGhQtO",
        "outputId": "baa50573-27cd-4bb8-c200-181f244e406f"
      },
      "execution_count": 10,
      "outputs": [
        {
          "output_type": "stream",
          "name": "stdout",
          "text": [
            "<class 'pandas.core.frame.DataFrame'>\n",
            "RangeIndex: 400 entries, 0 to 399\n",
            "Data columns (total 14 columns):\n",
            " #   Column                  Non-Null Count  Dtype  \n",
            "---  ------                  --------------  -----  \n",
            " 0   date                    400 non-null    object \n",
            " 1   hair_loss               400 non-null    object \n",
            " 2   stay_up_late            400 non-null    int64  \n",
            " 3   pressure_level          400 non-null    object \n",
            " 4   coffee_consumed         400 non-null    int64  \n",
            " 5   brain_working_duration  400 non-null    int64  \n",
            " 6   school_assesssment      400 non-null    object \n",
            " 7   stress_level            400 non-null    object \n",
            " 8   shampoo_brand           400 non-null    object \n",
            " 9   swimming                400 non-null    object \n",
            " 10  hair_washing            400 non-null    object \n",
            " 11  hair_grease             400 non-null    float64\n",
            " 12  dandruff                400 non-null    object \n",
            " 13  libido                  400 non-null    int64  \n",
            "dtypes: float64(1), int64(4), object(9)\n",
            "memory usage: 43.9+ KB\n"
          ]
        }
      ]
    },
    {
      "cell_type": "code",
      "source": [
        "df['hair_loss'].unique()"
      ],
      "metadata": {
        "colab": {
          "base_uri": "https://localhost:8080/"
        },
        "id": "UnlSaaRvi5v2",
        "outputId": "37e9921f-d83c-41fb-cc97-f016ea93b7bb"
      },
      "execution_count": 11,
      "outputs": [
        {
          "output_type": "execute_result",
          "data": {
            "text/plain": [
              "array(['Few', 'Medium', 'Many', 'A lot'], dtype=object)"
            ]
          },
          "metadata": {},
          "execution_count": 11
        }
      ]
    },
    {
      "cell_type": "code",
      "source": [
        "df['Severity_Hair_loss'] = df['hair_loss'].apply(lambda x: 0 if (x == 'Few' or x =='Medium') else 1)"
      ],
      "metadata": {
        "id": "Lu-Ti2S6jBRB"
      },
      "execution_count": 12,
      "outputs": []
    },
    {
      "cell_type": "code",
      "source": [
        "df.info()"
      ],
      "metadata": {
        "colab": {
          "base_uri": "https://localhost:8080/"
        },
        "id": "ZxhtO6kLjbW5",
        "outputId": "c99a1f91-5ac6-4436-edfa-66d31429aea3"
      },
      "execution_count": 14,
      "outputs": [
        {
          "output_type": "stream",
          "name": "stdout",
          "text": [
            "<class 'pandas.core.frame.DataFrame'>\n",
            "RangeIndex: 400 entries, 0 to 399\n",
            "Data columns (total 15 columns):\n",
            " #   Column                  Non-Null Count  Dtype  \n",
            "---  ------                  --------------  -----  \n",
            " 0   date                    400 non-null    object \n",
            " 1   hair_loss               400 non-null    object \n",
            " 2   stay_up_late            400 non-null    int64  \n",
            " 3   pressure_level          400 non-null    object \n",
            " 4   coffee_consumed         400 non-null    int64  \n",
            " 5   brain_working_duration  400 non-null    int64  \n",
            " 6   school_assesssment      400 non-null    object \n",
            " 7   stress_level            400 non-null    object \n",
            " 8   shampoo_brand           400 non-null    object \n",
            " 9   swimming                400 non-null    object \n",
            " 10  hair_washing            400 non-null    object \n",
            " 11  hair_grease             400 non-null    float64\n",
            " 12  dandruff                400 non-null    object \n",
            " 13  libido                  400 non-null    int64  \n",
            " 14  Severity_Hair_loss      400 non-null    int64  \n",
            "dtypes: float64(1), int64(5), object(9)\n",
            "memory usage: 47.0+ KB\n"
          ]
        }
      ]
    },
    {
      "cell_type": "code",
      "source": [
        "#Splitting into training and testing data\n",
        "features = ['stay_up_late','pressure_level','brain_working_duration','school_assesssment','stress_level', 'shampoo_brand', 'swimming','hair_washing','hair_grease','dandruff','libido']\n",
        "nb_train = int(np.floor(0.9 * len(df)))\n",
        "df = df.sample(frac=1, random_state=217)\n",
        "X_train = df[features][:nb_train]\n",
        "y_train = df['Severity_Hair_loss'][:nb_train].values\n",
        "X_test = df[features][nb_train:]\n",
        "y_test = df['Severity_Hair_loss'][nb_train:].values"
      ],
      "metadata": {
        "id": "49YkkjVehTMZ"
      },
      "execution_count": 15,
      "outputs": []
    },
    {
      "cell_type": "code",
      "source": [
        "def entropy(p):\n",
        "  #This function calculates entropy\n",
        "    if p == 0:\n",
        "        return 0\n",
        "    elif p == 1:\n",
        "        return 0\n",
        "    else:\n",
        "        return - (p * np.log2(p) + (1 - p) * np.log2(1-p))\n",
        "\n",
        "def information_gain(left_child, right_child):\n",
        "  #This function calculates the information gain of each node by substracting entropy in the previous node by the entrogpy in the node after\n",
        "    parent = left_child + right_child\n",
        "    p_parent = parent.count(1) / len(parent) if len(parent) > 0 else 0\n",
        "    p_left = left_child.count(1) / len(left_child) if len(left_child) > 0 else 0\n",
        "    p_right = right_child.count(1) / len(right_child) if len(right_child) > 0 else 0\n",
        "    IG_p = entropy(p_parent)\n",
        "    IG_l = entropy(p_left)\n",
        "    IG_r = entropy(p_right)\n",
        "    return IG_p - len(left_child) / len(parent) * IG_l - len(right_child) / len(parent) * IG_r\n",
        "\n",
        "def draw_bootstrap(X_train, y_train):\n",
        "  #Converting the data from a dataframe into arrays for dissection\n",
        "    bootstrap_indices = list(np.random.choice(range(len(X_train)), len(X_train), replace = True))\n",
        "    oob_indices = [i for i in range(len(X_train)) if i not in bootstrap_indices]\n",
        "    X_bootstrap = X_train.iloc[bootstrap_indices].values\n",
        "    y_bootstrap = y_train[bootstrap_indices]\n",
        "    X_oob = X_train.iloc[oob_indices].values\n",
        "    y_oob = y_train[oob_indices]\n",
        "    return X_bootstrap, y_bootstrap, X_oob, y_oob\n",
        "\n",
        "def oob_score(tree, X_test, y_test):\n",
        "    mis_label = 0\n",
        "    for i in range(len(X_test)):\n",
        "        pred = predict_tree(tree, X_test[i])\n",
        "        if pred != y_test[i]:\n",
        "            mis_label += 1\n",
        "    return mis_label / len(X_test)\n",
        "\n",
        "def find_split_point(X_bootstrap, y_bootstrap, max_features):\n",
        "  #Here we will check the spliting point, so we calculate the information gain for the point. Finally we will append to the tree the new nodes as well.\n",
        "    feature_ls = list()\n",
        "    num_features = len(X_bootstrap[0])\n",
        "\n",
        "    while len(feature_ls) <= max_features:\n",
        "        feature_idx = random.sample(range(num_features), 1)\n",
        "        if feature_idx not in feature_ls:\n",
        "            feature_ls.extend(feature_idx)\n",
        "\n",
        "    best_info_gain = -999\n",
        "    node = None\n",
        "    for feature_idx in feature_ls:\n",
        "        for split_point in X_bootstrap[:,feature_idx]:\n",
        "            left_child = {'X_bootstrap': [], 'y_bootstrap': []}\n",
        "            right_child = {'X_bootstrap': [], 'y_bootstrap': []}\n",
        "\n",
        "            # split children for continuous variables\n",
        "            if type(split_point) in [int, float]:\n",
        "                for i, value in enumerate(X_bootstrap[:,feature_idx]):\n",
        "                    if value <= split_point:\n",
        "                        left_child['X_bootstrap'].append(X_bootstrap[i])\n",
        "                        left_child['y_bootstrap'].append(y_bootstrap[i])\n",
        "                    else:\n",
        "                        right_child['X_bootstrap'].append(X_bootstrap[i])\n",
        "                        right_child['y_bootstrap'].append(y_bootstrap[i])\n",
        "            # split children for categoric variables\n",
        "            else:\n",
        "                for i, value in enumerate(X_bootstrap[:,feature_idx]):\n",
        "                    if value == split_point:\n",
        "                        left_child['X_bootstrap'].append(X_bootstrap[i])\n",
        "                        left_child['y_bootstrap'].append(y_bootstrap[i])\n",
        "                    else:\n",
        "                        right_child['X_bootstrap'].append(X_bootstrap[i])\n",
        "                        right_child['y_bootstrap'].append(y_bootstrap[i])\n",
        "\n",
        "            split_info_gain = information_gain(left_child['y_bootstrap'], right_child['y_bootstrap'])\n",
        "            if split_info_gain > best_info_gain:\n",
        "                best_info_gain = split_info_gain\n",
        "                left_child['X_bootstrap'] = np.array(left_child['X_bootstrap'])\n",
        "                right_child['X_bootstrap'] = np.array(right_child['X_bootstrap'])\n",
        "                node = {'information_gain': split_info_gain,\n",
        "                        'left_child': left_child,\n",
        "                        'right_child': right_child,\n",
        "                        'split_point': split_point,\n",
        "                        'feature_idx': feature_idx}\n",
        "\n",
        "\n",
        "    return node\n",
        "\n",
        "def terminal_node(node):\n",
        "    y_bootstrap = node['y_bootstrap']\n",
        "    pred = max(y_bootstrap, key = y_bootstrap.count)\n",
        "    return pred\n",
        "\n",
        "\n",
        "def split_node(node, max_features, min_samples_split, max_depth, depth):\n",
        "  #Here, we will find the terminal node, if there are no samples in one of the nodes or if the depth of the tree has reached the max_depth size. However, if we have reached to min samples split, we will split again.\n",
        "    left_child = node['left_child']\n",
        "    right_child = node['right_child']\n",
        "\n",
        "    del(node['left_child'])\n",
        "    del(node['right_child'])\n",
        "\n",
        "    if len(left_child['y_bootstrap']) == 0 or len(right_child['y_bootstrap']) == 0:\n",
        "        empty_child = {'y_bootstrap': left_child['y_bootstrap'] + right_child['y_bootstrap']}\n",
        "        node['left_split'] = terminal_node(empty_child)\n",
        "        node['right_split'] = terminal_node(empty_child)\n",
        "        return\n",
        "\n",
        "    if depth >= max_depth:\n",
        "        node['left_split'] = terminal_node(left_child)\n",
        "        node['right_split'] = terminal_node(right_child)\n",
        "        return node\n",
        "\n",
        "    if len(left_child['X_bootstrap']) <= min_samples_split:\n",
        "        node['left_split'] = node['right_split'] = terminal_node(left_child)\n",
        "    else:\n",
        "        node['left_split'] = find_split_point(left_child['X_bootstrap'], left_child['y_bootstrap'], max_features)\n",
        "        split_node(node['left_split'], max_depth, min_samples_split, max_depth, depth + 1)\n",
        "    if len(right_child['X_bootstrap']) <= min_samples_split:\n",
        "        node['right_split'] = node['left_split'] = terminal_node(right_child)\n",
        "    else:\n",
        "        node['right_split'] = find_split_point(right_child['X_bootstrap'], right_child['y_bootstrap'], max_features)\n",
        "        split_node(node['right_split'], max_features, min_samples_split, max_depth, depth + 1)\n",
        "\n",
        "def build_tree(X_bootstrap, y_bootstrap, max_depth, min_samples_split, max_features):\n",
        "  #We will start building the tree, we first start with the find_split function.\n",
        "    root_node = find_split_point(X_bootstrap, y_bootstrap, max_features)\n",
        "    split_node(root_node, max_features, min_samples_split, max_depth, 1)\n",
        "    return root_node\n",
        "\n",
        "def random_forest(X_train, y_train, n_estimators, max_features, max_depth, min_samples_split):\n",
        "  #We will run forest which calls the function for building tree.\n",
        "    tree_ls = list()\n",
        "    oob_ls = list()\n",
        "    for i in range(n_estimators):\n",
        "        X_bootstrap, y_bootstrap, X_oob, y_oob = draw_bootstrap(X_train, y_train)\n",
        "        tree = build_tree(X_bootstrap, y_bootstrap, max_features, max_depth, min_samples_split)\n",
        "        tree_ls.append(tree)\n",
        "        oob_error = oob_score(tree, X_oob, y_oob)\n",
        "        oob_ls.append(oob_error)\n",
        "    print(\"OOB estimate: {:.2f}\".format(np.mean(oob_ls)))\n",
        "    return tree_ls\n",
        "\n",
        "def predict_tree(tree, X_test):\n",
        "  #Running prediction in the tree\n",
        "    feature_idx = tree['feature_idx']\n",
        "\n",
        "    if X_test[feature_idx] <= tree['split_point']:\n",
        "        if type(tree['left_split']) == dict:\n",
        "            return predict_tree(tree['left_split'], X_test)\n",
        "        else:\n",
        "            value = tree['left_split']\n",
        "            return value\n",
        "    else:\n",
        "        if type(tree['right_split']) == dict:\n",
        "            return predict_tree(tree['right_split'], X_test)\n",
        "        else:\n",
        "            return tree['right_split']\n",
        "\n",
        "def predict_rf(tree_ls, X_test):\n",
        "  #Running prediction in the random forest\n",
        "    pred_ls = list()\n",
        "    for i in range(len(X_test)):\n",
        "        ensemble_preds = [predict_tree(tree, X_test.values[i]) for tree in tree_ls]\n",
        "        final_pred = max(ensemble_preds, key = ensemble_preds.count)\n",
        "        pred_ls.append(final_pred)\n",
        "    return np.array(pred_ls)"
      ],
      "metadata": {
        "id": "rr7WucqIwKPx"
      },
      "execution_count": 17,
      "outputs": []
    },
    {
      "cell_type": "code",
      "source": [
        "#Setting our parameters\n",
        "n_estimators = 100\n",
        "max_features = 3\n",
        "max_depth = 10\n",
        "min_samples_split = 2\n",
        "\n",
        "model = random_forest(X_train, y_train, n_estimators=100, max_features=3, max_depth=10, min_samples_split=2)"
      ],
      "metadata": {
        "colab": {
          "base_uri": "https://localhost:8080/"
        },
        "id": "JrSjDs9Xwup5",
        "outputId": "7aedb277-256a-4289-b2b9-21940077f61d"
      },
      "execution_count": 18,
      "outputs": [
        {
          "output_type": "stream",
          "name": "stdout",
          "text": [
            "OOB estimate: 0.14\n"
          ]
        }
      ]
    },
    {
      "cell_type": "code",
      "source": [
        "#Running\n",
        "preds = predict_rf(model, X_test)"
      ],
      "metadata": {
        "id": "Cx2Ipbn_wymH"
      },
      "execution_count": 19,
      "outputs": []
    },
    {
      "cell_type": "code",
      "source": [
        "#As you can see we have good accuracy\n",
        "acc = sum(preds == y_test) / len(y_test)\n",
        "print(\"Testing accuracy: {}\".format(np.round(acc,3)))"
      ],
      "metadata": {
        "colab": {
          "base_uri": "https://localhost:8080/"
        },
        "id": "fZxqxe65w0Qr",
        "outputId": "201f4818-e1c9-40d0-82c5-6bb4ff75efc5"
      },
      "execution_count": 20,
      "outputs": [
        {
          "output_type": "stream",
          "name": "stdout",
          "text": [
            "Testing accuracy: 0.95\n"
          ]
        }
      ]
    }
  ]
}